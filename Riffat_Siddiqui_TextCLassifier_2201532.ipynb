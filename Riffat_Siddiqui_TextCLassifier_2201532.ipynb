{
 "cells": [
  {
   "cell_type": "code",
   "execution_count": 1,
   "id": "f70284e0",
   "metadata": {},
   "outputs": [],
   "source": [
    "import numpy as np\n",
    "import pandas as pd\n",
    "from sklearn import model_selection, svm\n",
    "from nltk.tokenize import word_tokenize\n",
    "from nltk import pos_tag\n",
    "from nltk.corpus import stopwords\n",
    "import matplotlib.pyplot as plt\n",
    "from nltk.stem import WordNetLemmatizer\n",
    "import re\n",
    "from sklearn.model_selection import train_test_split\n",
    "%matplotlib inline\n",
    "from sklearn.metrics import accuracy_score\n",
    "from sklearn.linear_model import LogisticRegression\n",
    "from sklearn import metrics\n",
    "from sklearn.metrics import classification_report\n",
    "from sklearn.feature_extraction.text import CountVectorizer\n",
    "import nltk\n",
    "from sklearn.svm import SVC\n",
    "from sklearn.ensemble import RandomForestClassifier"
   ]
  },
  {
   "cell_type": "markdown",
   "id": "0df54b85",
   "metadata": {},
   "source": [
    "#Data Reading "
   ]
  },
  {
   "cell_type": "code",
   "execution_count": 2,
   "id": "f5fe5807",
   "metadata": {},
   "outputs": [
    {
     "data": {
      "text/html": [
       "<div>\n",
       "<style scoped>\n",
       "    .dataframe tbody tr th:only-of-type {\n",
       "        vertical-align: middle;\n",
       "    }\n",
       "\n",
       "    .dataframe tbody tr th {\n",
       "        vertical-align: top;\n",
       "    }\n",
       "\n",
       "    .dataframe thead th {\n",
       "        text-align: right;\n",
       "    }\n",
       "</style>\n",
       "<table border=\"1\" class=\"dataframe\">\n",
       "  <thead>\n",
       "    <tr style=\"text-align: right;\">\n",
       "      <th></th>\n",
       "      <th>review</th>\n",
       "      <th>sentiment</th>\n",
       "    </tr>\n",
       "  </thead>\n",
       "  <tbody>\n",
       "    <tr>\n",
       "      <th>0</th>\n",
       "      <td>One of the other reviewers has mentioned that ...</td>\n",
       "      <td>positive</td>\n",
       "    </tr>\n",
       "    <tr>\n",
       "      <th>1</th>\n",
       "      <td>A wonderful little production. &lt;br /&gt;&lt;br /&gt;The...</td>\n",
       "      <td>positive</td>\n",
       "    </tr>\n",
       "    <tr>\n",
       "      <th>2</th>\n",
       "      <td>I thought this was a wonderful way to spend ti...</td>\n",
       "      <td>positive</td>\n",
       "    </tr>\n",
       "    <tr>\n",
       "      <th>3</th>\n",
       "      <td>Basically there's a family where a little boy ...</td>\n",
       "      <td>negative</td>\n",
       "    </tr>\n",
       "    <tr>\n",
       "      <th>4</th>\n",
       "      <td>Petter Mattei's \"Love in the Time of Money\" is...</td>\n",
       "      <td>positive</td>\n",
       "    </tr>\n",
       "    <tr>\n",
       "      <th>...</th>\n",
       "      <td>...</td>\n",
       "      <td>...</td>\n",
       "    </tr>\n",
       "    <tr>\n",
       "      <th>49995</th>\n",
       "      <td>I thought this movie did a down right good job...</td>\n",
       "      <td>positive</td>\n",
       "    </tr>\n",
       "    <tr>\n",
       "      <th>49996</th>\n",
       "      <td>Bad plot, bad dialogue, bad acting, idiotic di...</td>\n",
       "      <td>negative</td>\n",
       "    </tr>\n",
       "    <tr>\n",
       "      <th>49997</th>\n",
       "      <td>I am a Catholic taught in parochial elementary...</td>\n",
       "      <td>negative</td>\n",
       "    </tr>\n",
       "    <tr>\n",
       "      <th>49998</th>\n",
       "      <td>I'm going to have to disagree with the previou...</td>\n",
       "      <td>negative</td>\n",
       "    </tr>\n",
       "    <tr>\n",
       "      <th>49999</th>\n",
       "      <td>No one expects the Star Trek movies to be high...</td>\n",
       "      <td>negative</td>\n",
       "    </tr>\n",
       "  </tbody>\n",
       "</table>\n",
       "<p>50000 rows × 2 columns</p>\n",
       "</div>"
      ],
      "text/plain": [
       "                                                  review sentiment\n",
       "0      One of the other reviewers has mentioned that ...  positive\n",
       "1      A wonderful little production. <br /><br />The...  positive\n",
       "2      I thought this was a wonderful way to spend ti...  positive\n",
       "3      Basically there's a family where a little boy ...  negative\n",
       "4      Petter Mattei's \"Love in the Time of Money\" is...  positive\n",
       "...                                                  ...       ...\n",
       "49995  I thought this movie did a down right good job...  positive\n",
       "49996  Bad plot, bad dialogue, bad acting, idiotic di...  negative\n",
       "49997  I am a Catholic taught in parochial elementary...  negative\n",
       "49998  I'm going to have to disagree with the previou...  negative\n",
       "49999  No one expects the Star Trek movies to be high...  negative\n",
       "\n",
       "[50000 rows x 2 columns]"
      ]
     },
     "execution_count": 2,
     "metadata": {},
     "output_type": "execute_result"
    }
   ],
   "source": [
    "imdbDataset = pd.read_csv(r'IMDB_Dataset.csv')\n",
    "imdbDataset"
   ]
  },
  {
   "cell_type": "code",
   "execution_count": 3,
   "id": "fdeb9bed",
   "metadata": {},
   "outputs": [
    {
     "data": {
      "text/html": [
       "<div>\n",
       "<style scoped>\n",
       "    .dataframe tbody tr th:only-of-type {\n",
       "        vertical-align: middle;\n",
       "    }\n",
       "\n",
       "    .dataframe tbody tr th {\n",
       "        vertical-align: top;\n",
       "    }\n",
       "\n",
       "    .dataframe thead th {\n",
       "        text-align: right;\n",
       "    }\n",
       "</style>\n",
       "<table border=\"1\" class=\"dataframe\">\n",
       "  <thead>\n",
       "    <tr style=\"text-align: right;\">\n",
       "      <th></th>\n",
       "      <th>review</th>\n",
       "      <th>sentiment</th>\n",
       "    </tr>\n",
       "  </thead>\n",
       "  <tbody>\n",
       "    <tr>\n",
       "      <th>count</th>\n",
       "      <td>50000</td>\n",
       "      <td>50000</td>\n",
       "    </tr>\n",
       "    <tr>\n",
       "      <th>unique</th>\n",
       "      <td>49582</td>\n",
       "      <td>2</td>\n",
       "    </tr>\n",
       "    <tr>\n",
       "      <th>top</th>\n",
       "      <td>Loved today's show!!! It was a variety and not...</td>\n",
       "      <td>positive</td>\n",
       "    </tr>\n",
       "    <tr>\n",
       "      <th>freq</th>\n",
       "      <td>5</td>\n",
       "      <td>25000</td>\n",
       "    </tr>\n",
       "  </tbody>\n",
       "</table>\n",
       "</div>"
      ],
      "text/plain": [
       "                                                   review sentiment\n",
       "count                                               50000     50000\n",
       "unique                                              49582         2\n",
       "top     Loved today's show!!! It was a variety and not...  positive\n",
       "freq                                                    5     25000"
      ]
     },
     "execution_count": 3,
     "metadata": {},
     "output_type": "execute_result"
    }
   ],
   "source": [
    "imdbDataset.describe()"
   ]
  },
  {
   "cell_type": "code",
   "execution_count": 4,
   "id": "7f2e6a59",
   "metadata": {},
   "outputs": [
    {
     "data": {
      "text/plain": [
       "positive    25000\n",
       "negative    25000\n",
       "Name: sentiment, dtype: int64"
      ]
     },
     "execution_count": 4,
     "metadata": {},
     "output_type": "execute_result"
    }
   ],
   "source": [
    "imdbDataset['sentiment'].value_counts()"
   ]
  },
  {
   "cell_type": "markdown",
   "id": "d999602d",
   "metadata": {},
   "source": [
    "#Preprocessing \n"
   ]
  },
  {
   "cell_type": "code",
   "execution_count": 7,
   "id": "f2ed39f1",
   "metadata": {},
   "outputs": [],
   "source": [
    "imdbDataset['sentiment']=imdbDataset['sentiment'].map({'positive': 1, 'negative': 0})\n",
    "stopWords = set(stopwords.words(\"english\")) \n",
    "lemmatizer = WordNetLemmatizer()\n",
    "def preprocessing(content):\n",
    "    #removing html tags\n",
    "    content=re.sub('<[^>]*>','',content)\n",
    "    #remove brackets, integers and alphabets starting of the string \n",
    "    content = re.sub(r'[^A-Za-z0-9]+',' ',content)\n",
    "    #lower the words\n",
    "    content = content.lower()\n",
    "    #word stemming using porterStemmer\n",
    "    ps=nltk.porter.PorterStemmer()\n",
    "    content= ' '.join([ps.stem(word) for word in content.split(\" \")])\n",
    "    #lemmatize group different words in same form \n",
    "    content = [lemmatizer.lemmatize(i) for i in content.split(\" \")]\n",
    "    #pos tagging for verb \n",
    "    content = [lemmatizer.lemmatize(i, \"v\") for i in content]\n",
    "    content =  \" \".join([word for word in content if not word in stopWords])\n",
    "    return content\n",
    "\n",
    "imdbDataset['ProcessedReviews'] = imdbDataset.review.apply(lambda x: preprocessing(x))\n"
   ]
  },
  {
   "cell_type": "code",
   "execution_count": 8,
   "id": "bbd24a15",
   "metadata": {},
   "outputs": [
    {
     "data": {
      "text/html": [
       "<div>\n",
       "<style scoped>\n",
       "    .dataframe tbody tr th:only-of-type {\n",
       "        vertical-align: middle;\n",
       "    }\n",
       "\n",
       "    .dataframe tbody tr th {\n",
       "        vertical-align: top;\n",
       "    }\n",
       "\n",
       "    .dataframe thead th {\n",
       "        text-align: right;\n",
       "    }\n",
       "</style>\n",
       "<table border=\"1\" class=\"dataframe\">\n",
       "  <thead>\n",
       "    <tr style=\"text-align: right;\">\n",
       "      <th></th>\n",
       "      <th>review</th>\n",
       "      <th>sentiment</th>\n",
       "      <th>ProcessedReviews</th>\n",
       "    </tr>\n",
       "  </thead>\n",
       "  <tbody>\n",
       "    <tr>\n",
       "      <th>0</th>\n",
       "      <td>One of the other reviewers has mentioned that ...</td>\n",
       "      <td>1</td>\n",
       "      <td>one review ha mention watch 1 oz episod hook r...</td>\n",
       "    </tr>\n",
       "    <tr>\n",
       "      <th>1</th>\n",
       "      <td>A wonderful little production. &lt;br /&gt;&lt;br /&gt;The...</td>\n",
       "      <td>1</td>\n",
       "      <td>wonder littl product film techniqu veri unassu...</td>\n",
       "    </tr>\n",
       "    <tr>\n",
       "      <th>2</th>\n",
       "      <td>I thought this was a wonderful way to spend ti...</td>\n",
       "      <td>1</td>\n",
       "      <td>think thi wa wonder way spend time hot summer ...</td>\n",
       "    </tr>\n",
       "    <tr>\n",
       "      <th>3</th>\n",
       "      <td>Basically there's a family where a little boy ...</td>\n",
       "      <td>0</td>\n",
       "      <td>basic famili littl boy jake think zombi hi clo...</td>\n",
       "    </tr>\n",
       "    <tr>\n",
       "      <th>4</th>\n",
       "      <td>Petter Mattei's \"Love in the Time of Money\" is...</td>\n",
       "      <td>1</td>\n",
       "      <td>petter mattei love time money visual stun film...</td>\n",
       "    </tr>\n",
       "    <tr>\n",
       "      <th>...</th>\n",
       "      <td>...</td>\n",
       "      <td>...</td>\n",
       "      <td>...</td>\n",
       "    </tr>\n",
       "    <tr>\n",
       "      <th>49995</th>\n",
       "      <td>I thought this movie did a down right good job...</td>\n",
       "      <td>1</td>\n",
       "      <td>think thi movi right good job creativ origin f...</td>\n",
       "    </tr>\n",
       "    <tr>\n",
       "      <th>49996</th>\n",
       "      <td>Bad plot, bad dialogue, bad acting, idiotic di...</td>\n",
       "      <td>0</td>\n",
       "      <td>bad plot bad dialogu bad act idiot direct anno...</td>\n",
       "    </tr>\n",
       "    <tr>\n",
       "      <th>49997</th>\n",
       "      <td>I am a Catholic taught in parochial elementary...</td>\n",
       "      <td>0</td>\n",
       "      <td>cathol teach parochi elementari school nun tea...</td>\n",
       "    </tr>\n",
       "    <tr>\n",
       "      <th>49998</th>\n",
       "      <td>I'm going to have to disagree with the previou...</td>\n",
       "      <td>0</td>\n",
       "      <td>go disagre previou comment side maltin thi one...</td>\n",
       "    </tr>\n",
       "    <tr>\n",
       "      <th>49999</th>\n",
       "      <td>No one expects the Star Trek movies to be high...</td>\n",
       "      <td>0</td>\n",
       "      <td>one expect star trek movi high art fan expect ...</td>\n",
       "    </tr>\n",
       "  </tbody>\n",
       "</table>\n",
       "<p>50000 rows × 3 columns</p>\n",
       "</div>"
      ],
      "text/plain": [
       "                                                  review  sentiment  \\\n",
       "0      One of the other reviewers has mentioned that ...          1   \n",
       "1      A wonderful little production. <br /><br />The...          1   \n",
       "2      I thought this was a wonderful way to spend ti...          1   \n",
       "3      Basically there's a family where a little boy ...          0   \n",
       "4      Petter Mattei's \"Love in the Time of Money\" is...          1   \n",
       "...                                                  ...        ...   \n",
       "49995  I thought this movie did a down right good job...          1   \n",
       "49996  Bad plot, bad dialogue, bad acting, idiotic di...          0   \n",
       "49997  I am a Catholic taught in parochial elementary...          0   \n",
       "49998  I'm going to have to disagree with the previou...          0   \n",
       "49999  No one expects the Star Trek movies to be high...          0   \n",
       "\n",
       "                                        ProcessedReviews  \n",
       "0      one review ha mention watch 1 oz episod hook r...  \n",
       "1      wonder littl product film techniqu veri unassu...  \n",
       "2      think thi wa wonder way spend time hot summer ...  \n",
       "3      basic famili littl boy jake think zombi hi clo...  \n",
       "4      petter mattei love time money visual stun film...  \n",
       "...                                                  ...  \n",
       "49995  think thi movi right good job creativ origin f...  \n",
       "49996  bad plot bad dialogu bad act idiot direct anno...  \n",
       "49997  cathol teach parochi elementari school nun tea...  \n",
       "49998  go disagre previou comment side maltin thi one...  \n",
       "49999  one expect star trek movi high art fan expect ...  \n",
       "\n",
       "[50000 rows x 3 columns]"
      ]
     },
     "execution_count": 8,
     "metadata": {},
     "output_type": "execute_result"
    }
   ],
   "source": [
    "#preprocessed data\n",
    "imdbDataset"
   ]
  },
  {
   "cell_type": "markdown",
   "id": "9f6a3d99",
   "metadata": {},
   "source": [
    "#Splitting dataset"
   ]
  },
  {
   "cell_type": "code",
   "execution_count": 9,
   "id": "9534c687",
   "metadata": {},
   "outputs": [
    {
     "data": {
      "text/plain": [
       "(50000,)"
      ]
     },
     "execution_count": 9,
     "metadata": {},
     "output_type": "execute_result"
    }
   ],
   "source": [
    "x = imdbDataset['ProcessedReviews']\n",
    "y = imdbDataset['sentiment']\n",
    "x.shape"
   ]
  },
  {
   "cell_type": "code",
   "execution_count": 10,
   "id": "b3d6b167",
   "metadata": {},
   "outputs": [
    {
     "name": "stdout",
     "output_type": "stream",
     "text": [
      "Training example size (40000,)\n",
      "Testing example size (10000,)\n"
     ]
    }
   ],
   "source": [
    "X_train, X_test, y_train, y_test = train_test_split(x, y, test_size = 0.2, random_state = 0)\n",
    "# X_train.shape\n",
    "print(\"Training example size\",X_train.shape)\n",
    "print(\"Testing example size\",X_test.shape)\n"
   ]
  },
  {
   "cell_type": "markdown",
   "id": "235a57bc",
   "metadata": {},
   "source": [
    "Feature Extraction "
   ]
  },
  {
   "cell_type": "code",
   "execution_count": 11,
   "id": "dfb167a6",
   "metadata": {},
   "outputs": [],
   "source": [
    "freqWords = CountVectorizer().fit(imdbDataset['ProcessedReviews'].values.astype('U'))\n",
    "featureTrain = freqWords.transform(X_train.values.astype('U'))\n",
    "featureTest = freqWords.transform(X_test.values.astype('U'))\n"
   ]
  },
  {
   "cell_type": "code",
   "execution_count": 12,
   "id": "13f4e6de",
   "metadata": {},
   "outputs": [
    {
     "data": {
      "image/png": "[encoded data removed]",
      "text/plain": [
       "<Figure size 432x288 with 1 Axes>"
      ]
     },
     "metadata": {
      "needs_background": "light"
     },
     "output_type": "display_data"
    }
   ],
   "source": [
    "features = pd.DataFrame(featureTrain.toarray(), columns=freqWords.get_feature_names())\n",
    "features.sum().sort_values(ascending=True)[:10].plot(kind='barh', title='Top 10 Words',xlabel='freq', ylabel='Words' )"
   ]
  },
  {
   "cell_type": "markdown",
   "id": "694e842a",
   "metadata": {},
   "source": [
    "Algorithm Training"
   ]
  },
  {
   "cell_type": "code",
   "execution_count": 19,
   "id": "a2572834",
   "metadata": {
    "scrolled": true
   },
   "outputs": [],
   "source": [
    "SVM = SVC()\n",
    "# fit the model with pre-processed data\n",
    "SVM.fit(featureTrain, y_train)\n",
    "#perform classification and prediction on samples in tf_test\n",
    "predicted = SVM.predict(featureTest)"
   ]
  },
  {
   "cell_type": "code",
   "execution_count": 20,
   "id": "6648a105",
   "metadata": {},
   "outputs": [
    {
     "data": {
      "image/png": "[encoded data removed]",
      "text/plain": [
       "<Figure size 432x288 with 2 Axes>"
      ]
     },
     "metadata": {
      "needs_background": "light"
     },
     "output_type": "display_data"
    }
   ],
   "source": [
    "#plot confusion matrix for SVM\n",
    "confusionMatrixSVM = metrics.confusion_matrix(y_test, predicted)\n",
    "cm = metrics.ConfusionMatrixDisplay(confusion_matrix = confusionMatrixSVM, display_labels = [False, True])\n",
    "cm.plot(cmap=plt.cm.Blues)\n",
    "plt.show()"
   ]
  },
  {
   "cell_type": "code",
   "execution_count": 21,
   "id": "745ef259",
   "metadata": {},
   "outputs": [
    {
     "name": "stdout",
     "output_type": "stream",
     "text": [
      "              precision    recall  f1-score   support\n",
      "\n",
      "           0       0.89      0.86      0.87      5035\n",
      "           1       0.86      0.89      0.88      4965\n",
      "\n",
      "    accuracy                           0.87     10000\n",
      "   macro avg       0.88      0.87      0.87     10000\n",
      "weighted avg       0.88      0.87      0.87     10000\n",
      "\n"
     ]
    }
   ],
   "source": [
    "#print classification report for SVM\n",
    "print(classification_report(y_test, predicted))"
   ]
  },
  {
   "cell_type": "code",
   "execution_count": 13,
   "id": "e647329f",
   "metadata": {},
   "outputs": [],
   "source": [
    "#logistic regression model\n",
    "lr=LogisticRegression(max_iter=700,C=1,random_state=42)\n",
    "lrFit=lr.fit(featureTrain, y_train)\n",
    "lrPredict=lr.predict(featureTest)"
   ]
  },
  {
   "cell_type": "code",
   "execution_count": 16,
   "id": "7cbed5f6",
   "metadata": {},
   "outputs": [
    {
     "name": "stdout",
     "output_type": "stream",
     "text": [
      "Logistic Regression Accuracy  : 0.8806\n"
     ]
    }
   ],
   "source": [
    "lrAccuracyScore=accuracy_score(y_test,lrPredict)\n",
    "print(\"Logistic Regression Accuracy  :\",lrAccuracyScore)"
   ]
  },
  {
   "cell_type": "code",
   "execution_count": 18,
   "id": "fbb5f60c",
   "metadata": {},
   "outputs": [
    {
     "data": {
      "image/png": "[encoded data removed]",
      "text/plain": [
       "<Figure size 432x288 with 2 Axes>"
      ]
     },
     "metadata": {
      "needs_background": "light"
     },
     "output_type": "display_data"
    }
   ],
   "source": [
    "# Logistic Regression COnfusion Matrix report\n",
    "confusionMatrixLR = metrics.confusion_matrix(y_test, lrPredict)\n",
    "cmLR = metrics.ConfusionMatrixDisplay(confusion_matrix = confusionMatrixLR, display_labels = [False, True])\n",
    "cmLR.plot(cmap=plt.cm.Greens)\n",
    "plt.show()"
   ]
  },
  {
   "cell_type": "code",
   "execution_count": 23,
   "id": "39522dab",
   "metadata": {},
   "outputs": [
    {
     "data": {
      "text/plain": [
       "RandomForestClassifier(criterion='entropy')"
      ]
     },
     "execution_count": 23,
     "metadata": {},
     "output_type": "execute_result"
    }
   ],
   "source": [
    "#random forest classifier \n",
    "randomForest = RandomForestClassifier(criterion = 'entropy', n_estimators=100)\n",
    "randomForest.fit(featureTrain, y_train)\n"
   ]
  },
  {
   "cell_type": "code",
   "execution_count": 24,
   "id": "4c5d2eb3",
   "metadata": {},
   "outputs": [],
   "source": [
    "randomForestPred = randomForest.predict(featureTest)"
   ]
  },
  {
   "cell_type": "code",
   "execution_count": 15,
   "id": "40c2407a",
   "metadata": {},
   "outputs": [
    {
     "name": "stdout",
     "output_type": "stream",
     "text": [
      "Random Forest Accuracy  : 0.8593\n"
     ]
    }
   ],
   "source": [
    "rfAccuracyScore=accuracy_score(y_test,randomForestPred)\n",
    "print(\"Random Forest Accuracy  :\",rfAccuracyScore)"
   ]
  },
  {
   "cell_type": "code",
   "execution_count": 22,
   "id": "e3e12d28",
   "metadata": {},
   "outputs": [
    {
     "data": {
      "image/png": "[encoded data removed]",
      "text/plain": [
       "<Figure size 432x288 with 2 Axes>"
      ]
     },
     "metadata": {
      "needs_background": "light"
     },
     "output_type": "display_data"
    }
   ],
   "source": [
    "#confusion matrix random forest\n",
    "confusionMatrixRF = metrics.confusion_matrix(y_test, randomForestPred)\n",
    "cmRF = metrics.ConfusionMatrixDisplay(confusion_matrix = confusionMatrixRF, display_labels = [False, True])\n",
    "cmRF.plot(cmap=plt.cm.plasma)\n",
    "plt.show()"
   ]
  }
 ],
 "metadata": {
  "kernelspec": {
   "display_name": "Python 3 (ipykernel)",
   "language": "python",
   "name": "python3"
  },
  "language_info": {
   "codemirror_mode": {
    "name": "ipython",
    "version": 3
   },
   "file_extension": ".py",
   "mimetype": "text/x-python",
   "name": "python",
   "nbconvert_exporter": "python",
   "pygments_lexer": "ipython3",
   "version": "3.9.7"
  }
 },
 "nbformat": 4,
 "nbformat_minor": 5
}
